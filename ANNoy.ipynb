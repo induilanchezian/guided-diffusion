{
 "cells": [
  {
   "cell_type": "code",
   "execution_count": 1,
   "id": "6ba841c5",
   "metadata": {},
   "outputs": [],
   "source": [
    "import os\n",
    "import random\n",
    "import imagehash \n",
    "import numpy as np \n",
    "import pandas as pd\n",
    "from PIL import Image \n",
    "from annoy import AnnoyIndex \n",
    "import glob"
   ]
  },
  {
   "cell_type": "code",
   "execution_count": 2,
   "id": "8bb83313",
   "metadata": {},
   "outputs": [
    {
     "name": "stdout",
     "output_type": "stream",
     "text": [
      "47924\n"
     ]
    }
   ],
   "source": [
    "data_dir = '/gpfs01/berens/data/data/eyepacs/data_processed/images/'\n",
    "csv_file = '/gpfs01/berens/data/data/eyepacs/data_processed_clahe_resized/metadata/splits_longitudinal_test/qual_eval_train.csv'\n",
    "df = pd.read_csv(csv_file, low_memory=False)\n",
    "filenames = df['image_path']\n",
    "filenames = filenames.apply(lambda x: os.path.join(data_dir, x))\n",
    "filenames = filenames.tolist()\n",
    "\n",
    "samples_dir = '/gpfs01/berens/user/iilanchezian/Projects/guided-diffusion/diffusion_model_samples_no_rotate_5_class_balancing_only_train/'\n",
    "samples = os.listdir(samples_dir)\n",
    "samples_path = list(map(lambda x: os.path.join(samples_dir, x), samples))\n",
    "filenames.extend(samples_path)\n",
    "\n",
    "print(len(filenames))"
   ]
  },
  {
   "cell_type": "code",
   "execution_count": 3,
   "id": "5286cd83",
   "metadata": {},
   "outputs": [
    {
     "ename": "UnidentifiedImageError",
     "evalue": "cannot identify image file '/gpfs01/berens/user/iilanchezian/Projects/guided-diffusion/diffusion_model_samples_no_rotate_5_class_balancing_only_train/samples_1000x256x256x3.npz'",
     "output_type": "error",
     "traceback": [
      "\u001b[0;31m---------------------------------------------------------------------------\u001b[0m",
      "\u001b[0;31mUnidentifiedImageError\u001b[0m                    Traceback (most recent call last)",
      "\u001b[0;32m/tmp/ipykernel_23599/3639692225.py\u001b[0m in \u001b[0;36m<module>\u001b[0;34m\u001b[0m\n\u001b[1;32m      3\u001b[0m \u001b[0mid_to_vec\u001b[0m \u001b[0;34m=\u001b[0m \u001b[0;34m{\u001b[0m\u001b[0;34m}\u001b[0m\u001b[0;34m\u001b[0m\u001b[0;34m\u001b[0m\u001b[0m\n\u001b[1;32m      4\u001b[0m \u001b[0;32mfor\u001b[0m \u001b[0mcount\u001b[0m\u001b[0;34m,\u001b[0m\u001b[0mf\u001b[0m \u001b[0;32min\u001b[0m \u001b[0menumerate\u001b[0m\u001b[0;34m(\u001b[0m\u001b[0mfilenames\u001b[0m\u001b[0;34m)\u001b[0m\u001b[0;34m:\u001b[0m\u001b[0;34m\u001b[0m\u001b[0;34m\u001b[0m\u001b[0m\n\u001b[0;32m----> 5\u001b[0;31m     \u001b[0mimg\u001b[0m \u001b[0;34m=\u001b[0m \u001b[0mImage\u001b[0m\u001b[0;34m.\u001b[0m\u001b[0mopen\u001b[0m\u001b[0;34m(\u001b[0m\u001b[0mf\u001b[0m\u001b[0;34m)\u001b[0m\u001b[0;34m\u001b[0m\u001b[0;34m\u001b[0m\u001b[0m\n\u001b[0m\u001b[1;32m      6\u001b[0m     \u001b[0mimg\u001b[0m \u001b[0;34m=\u001b[0m \u001b[0mimg\u001b[0m\u001b[0;34m.\u001b[0m\u001b[0mresize\u001b[0m\u001b[0;34m(\u001b[0m\u001b[0msz\u001b[0m\u001b[0;34m)\u001b[0m\u001b[0;34m\u001b[0m\u001b[0;34m\u001b[0m\u001b[0m\n\u001b[1;32m      7\u001b[0m     \u001b[0mimg_hash\u001b[0m \u001b[0;34m=\u001b[0m \u001b[0mimagehash\u001b[0m\u001b[0;34m.\u001b[0m\u001b[0mwhash\u001b[0m\u001b[0;34m(\u001b[0m\u001b[0mimg\u001b[0m\u001b[0;34m)\u001b[0m\u001b[0;34m\u001b[0m\u001b[0;34m\u001b[0m\u001b[0m\n",
      "\u001b[0;32m/usr/local/lib/python3.7/dist-packages/PIL/Image.py\u001b[0m in \u001b[0;36mopen\u001b[0;34m(fp, mode, formats)\u001b[0m\n\u001b[1;32m   3185\u001b[0m         \u001b[0mwarnings\u001b[0m\u001b[0;34m.\u001b[0m\u001b[0mwarn\u001b[0m\u001b[0;34m(\u001b[0m\u001b[0mmessage\u001b[0m\u001b[0;34m)\u001b[0m\u001b[0;34m\u001b[0m\u001b[0;34m\u001b[0m\u001b[0m\n\u001b[1;32m   3186\u001b[0m     raise UnidentifiedImageError(\n\u001b[0;32m-> 3187\u001b[0;31m         \u001b[0;34m\"cannot identify image file %r\"\u001b[0m \u001b[0;34m%\u001b[0m \u001b[0;34m(\u001b[0m\u001b[0mfilename\u001b[0m \u001b[0;32mif\u001b[0m \u001b[0mfilename\u001b[0m \u001b[0;32melse\u001b[0m \u001b[0mfp\u001b[0m\u001b[0;34m)\u001b[0m\u001b[0;34m\u001b[0m\u001b[0;34m\u001b[0m\u001b[0m\n\u001b[0m\u001b[1;32m   3188\u001b[0m     )\n\u001b[1;32m   3189\u001b[0m \u001b[0;34m\u001b[0m\u001b[0m\n",
      "\u001b[0;31mUnidentifiedImageError\u001b[0m: cannot identify image file '/gpfs01/berens/user/iilanchezian/Projects/guided-diffusion/diffusion_model_samples_no_rotate_5_class_balancing_only_train/samples_1000x256x256x3.npz'"
     ]
    }
   ],
   "source": [
    "vector_length = 0\n",
    "sz = (256,256)\n",
    "id_to_vec = {}\n",
    "for count,f in enumerate(filenames):\n",
    "    img = Image.open(f)\n",
    "    img = img.resize(sz)\n",
    "    img_hash = imagehash.whash(img)\n",
    "    hash_array = img_hash.hash.astype('int').flatten();\n",
    "    vector_length = hash_array.shape[0]\n",
    "    id_to_vec[count] = hash_array"
   ]
  },
  {
   "cell_type": "code",
   "execution_count": null,
   "id": "383073e3",
   "metadata": {},
   "outputs": [],
   "source": [
    "f = vector_length\n",
    "dist_function = \"hamming\"\n",
    "\n",
    "t = AnnoyIndex(f, dist_function)\n",
    "for key,value in id_to_vec.items():\n",
    "    t.add_item(key,value)"
   ]
  },
  {
   "cell_type": "code",
   "execution_count": null,
   "id": "43cd3e2b",
   "metadata": {},
   "outputs": [],
   "source": [
    "num_trees = 200\n",
    "t.build(num_trees)"
   ]
  },
  {
   "cell_type": "code",
   "execution_count": null,
   "id": "c8644c21",
   "metadata": {},
   "outputs": [],
   "source": [
    "test_file = '/gpfs01/berens/user/iilanchezian/Projects/guided-diffusion/'\n",
    "query_index = filenames.index(test_file)\n",
    "num_neighbors = 9\n",
    "neighbors = t.get_nns_by_item(query_index,num_neighbors,include_distances=True)"
   ]
  }
 ],
 "metadata": {
  "kernelspec": {
   "display_name": "Python 3",
   "language": "python",
   "name": "python3"
  },
  "language_info": {
   "codemirror_mode": {
    "name": "ipython",
    "version": 3
   },
   "file_extension": ".py",
   "mimetype": "text/x-python",
   "name": "python",
   "nbconvert_exporter": "python",
   "pygments_lexer": "ipython3",
   "version": "3.7.5"
  },
  "varInspector": {
   "cols": {
    "lenName": 16,
    "lenType": 16,
    "lenVar": 40
   },
   "kernels_config": {
    "python": {
     "delete_cmd_postfix": "",
     "delete_cmd_prefix": "del ",
     "library": "var_list.py",
     "varRefreshCmd": "print(var_dic_list())"
    },
    "r": {
     "delete_cmd_postfix": ") ",
     "delete_cmd_prefix": "rm(",
     "library": "var_list.r",
     "varRefreshCmd": "cat(var_dic_list()) "
    }
   },
   "types_to_exclude": [
    "module",
    "function",
    "builtin_function_or_method",
    "instance",
    "_Feature"
   ],
   "window_display": false
  }
 },
 "nbformat": 4,
 "nbformat_minor": 5
}
